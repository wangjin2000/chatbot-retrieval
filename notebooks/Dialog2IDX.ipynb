{
 "cells": [
  {
   "cell_type": "code",
   "execution_count": 1,
   "metadata": {
    "collapsed": true
   },
   "outputs": [],
   "source": [
    "def convert_row(row):\n",
    "    return \"\"\"#DREREFERENCE %s\n",
    "#DRETITLE %s\n",
    "#DRETYPE text\n",
    "#DREDBNAME %s\n",
    "#DRECONTENT \n",
    "%s\n",
    "#DREENDDOC\n",
    "\"\"\" % (\n",
    "    id(row[0]), row[1], 'Dialog', row[0])"
   ]
  },
  {
   "cell_type": "code",
   "execution_count": 2,
   "metadata": {},
   "outputs": [
    {
     "name": "stdout",
     "output_type": "stream",
     "text": [
      "Saved idx file to ../data/TrainSample1210.idx\n"
     ]
    }
   ],
   "source": [
    "# read train.csvv file and save it as *.idx file\n",
    "import pandas as pd\n",
    "\n",
    "#infile = '../data/train.csv'\n",
    "#outfile = '../data/UbantuTrain.idx'\n",
    "infile = '../data/TrainSample1210.csv'\n",
    "outfile = '../data/TrainSample1210.idx'\n",
    "\n",
    "\n",
    "df = pd.read_csv(infile, sep=',',encoding='utf_8' )\n",
    "\n",
    "# only index ture samples\n",
    "df_True = df[df['Label'] == 1]\n",
    "\n",
    "output = ('\\n'.join(df_True.apply(convert_row, axis=1)))\n",
    "#print (output)\n",
    "\n",
    "with open(outfile, \"w\", encoding='utf8') as idxfile:\n",
    "      idxfile.write(output)\n",
    "print(\"Saved idx file to {}\".format(outfile))\n",
    "#print ('\\n'.join(df.apply(convert_row, axis=1)))"
   ]
  },
  {
   "cell_type": "code",
   "execution_count": 31,
   "metadata": {},
   "outputs": [
    {
     "name": "stdout",
     "output_type": "stream",
     "text": [
      "Saved idx file to ../data/TestSample10Copy.idx\n"
     ]
    }
   ],
   "source": [
    "# read test.csv file and save it as *.idx file\n",
    "import csv              \n",
    "f = open('../data/TestSample10Copy.csv',encoding='utf-8')\n",
    "csv_f = csv.reader(f)   \n",
    "data = []\n",
    "\n",
    "for row in csv_f: \n",
    "   data.append(row)\n",
    "f.close()\n",
    "\n",
    "#print (data[1:])\n",
    "\n",
    "output = ('\\n'.join([convert_row(row) for row in data[1:]]))\n",
    "#print (output)\n",
    "\n",
    "outfile = '../data/TestSample10Copy.idx'\n",
    "with open(outfile, \"w\", encoding='utf8') as idxfile:\n",
    "      idxfile.write(output)\n",
    "print(\"Saved idx file to {}\".format(outfile))"
   ]
  },
  {
   "cell_type": "code",
   "execution_count": null,
   "metadata": {
    "collapsed": true
   },
   "outputs": [],
   "source": []
  }
 ],
 "metadata": {
  "kernelspec": {
   "display_name": "Python 3",
   "language": "python",
   "name": "python3"
  },
  "language_info": {
   "codemirror_mode": {
    "name": "ipython",
    "version": 3
   },
   "file_extension": ".py",
   "mimetype": "text/x-python",
   "name": "python",
   "nbconvert_exporter": "python",
   "pygments_lexer": "ipython3",
   "version": "3.5.3"
  }
 },
 "nbformat": 4,
 "nbformat_minor": 2
}
